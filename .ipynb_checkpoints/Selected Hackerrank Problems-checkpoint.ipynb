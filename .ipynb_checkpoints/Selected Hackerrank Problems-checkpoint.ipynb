{
 "cells": [
  {
   "cell_type": "markdown",
   "metadata": {},
   "source": [
    "This notebook contains statements and solutions to several problems from https://hackerrank.com."
   ]
  },
  {
   "cell_type": "markdown",
   "metadata": {},
   "source": [
    "<a id = 'TC'></a>\n",
    "<h1>Table of Contents</h1>\n",
    "1. [Utility Functions](#utility_functions)\n",
    "2. Problems\n",
    "    - [Weighted Dijkstra](#weighted_dijkstra)\n",
    "    - [Repetitive K-Sums](#repetitive_k_sums)\n",
    "    - [Solving Queries](#solving_queries)"
   ]
  },
  {
   "cell_type": "code",
   "execution_count": 1,
   "metadata": {
    "collapsed": true
   },
   "outputs": [],
   "source": [
    "import matplotlib.pyplot as plt\n",
    "%matplotlib inline\n",
    "import numpy as np\n",
    "import networkx as nx"
   ]
  },
  {
   "cell_type": "markdown",
   "metadata": {},
   "source": [
    "<a id = 'utility_functions'></a>"
   ]
  },
  {
   "cell_type": "markdown",
   "metadata": {},
   "source": [
    "<h2> Utility Functions  [$\\uparrow$](#TC) </h2>"
   ]
  },
  {
   "cell_type": "code",
   "execution_count": 2,
   "metadata": {
    "collapsed": true
   },
   "outputs": [],
   "source": [
    "def draw_weighted_graph(n, edges, node_labels = None):\n",
    "    \n",
    "    if node_labels: labels = dict([(i, 'v'+str(i) +'\\n'+str(node_labels[i-1])  ) for i in range(1,n+1)])\n",
    "    else: labels = None\n",
    "        \n",
    "    G = nx.Graph()\n",
    "    for i in range(1, n+1): G.add_node(i)\n",
    "    for edge in edges: G.add_edge(edge[0], edge[1],weight = edge[2])\n",
    "    pos = nx.shell_layout(G)\n",
    "    nx.draw_networkx(G, pos = pos, node_size = 1000, labels = labels)\n",
    "    for edge in edges:\n",
    "        a = edge[0]\n",
    "        b = edge[1]\n",
    "        w = edge[2]\n",
    "        H = nx.Graph()\n",
    "        H.add_node(w)\n",
    "        pos_H = {w: [(pos[a][0] + pos[b][0])/2 , (pos[a][1] + pos[b][1])/2 ]}\n",
    "        nx.draw_networkx(H,pos = pos_H, node_color = 'w', node_shape = '8')\n",
    "    plt.axis('off')\n",
    "    plt.show()\n"
   ]
  },
  {
   "cell_type": "markdown",
   "metadata": {},
   "source": [
    "<a id = 'weighted_dijkstra'></a>"
   ]
  },
  {
   "cell_type": "markdown",
   "metadata": {},
   "source": [
    "<h2> Dijkstra: Shortest Reach 2  [$\\uparrow$](#TC) </h2>\n",
    "\n",
    "This problem could be found at https://www.hackerrank.com/challenges/dijkstrashortreach/problem\n",
    "\n",
    "To submit the code paste the body of the dijkstra function into the function provided on the website.\n",
    "\n",
    "**Problem Statement:** Given an undirected graph and a starting node, determine the lengths of the shortest paths from the starting node to all other nodes in the graph. If a node is unreachable, its distance is -1. Nodes will be numbered consecutively from 1 to $n$, and edges will have varying distances or lengths.\n",
    "\n",
    "**Input Format:**\n",
    "Each test case is as follows: \n",
    "- The first line contains two space-separated integers $n$ and $m$, the number of nodes and edges in the graph. \n",
    "- Each of the next $m$ lines contains three space-separated integers $x$,$y$ , and $r$ , the beginning and ending nodes of an edge, and the length of the edge. \n",
    "- The last line of each test case has an integer $s$, denoting the starting position."
   ]
  },
  {
   "cell_type": "code",
   "execution_count": 3,
   "metadata": {
    "collapsed": true
   },
   "outputs": [],
   "source": [
    "def dijkstra(n,edges,s):\n",
    "    inf = 10**10\n",
    "    # Weight matrix\n",
    "    W = []\n",
    "    for i in range(n): W.append([inf]*n)\n",
    "    \n",
    "    for edge in edges:\n",
    "        x = edge[0] - 1\n",
    "        y = edge[1] - 1 \n",
    "        r = edge[2]\n",
    "        if r < W[x][y]:\n",
    "            W[x][y] = r\n",
    "            W[y][x] = r\n",
    "    \n",
    "    finilized = [False]*n\n",
    "    dist = [inf]*n\n",
    "    dist[s-1] = 0\n",
    "    \n",
    "    while True:\n",
    "\n",
    "        next_closest = -1\n",
    "        next_closest_dist = inf\n",
    "        for vertex in range(n):\n",
    "            if not finilized[vertex] and dist[vertex] < next_closest_dist:\n",
    "                next_closest = vertex\n",
    "                next_closest_dist = dist[vertex]\n",
    "\n",
    "        if next_closest == -1:\n",
    "            for i in range(n):\n",
    "                if dist[i] >= inf: dist[i] = -1\n",
    "        # uncomment next line for the hackerrank submission\n",
    "        #    dist.pop(s-1) \n",
    "            return(dist)\n",
    "        \n",
    "        finilized[next_closest] = True\n",
    "        for vertex in range(n):\n",
    "            if dist[vertex] > dist[next_closest] + W[next_closest][vertex]:\n",
    "                dist[vertex] = dist[next_closest] + W[next_closest][vertex]\n",
    "        \n",
    "    "
   ]
  },
  {
   "cell_type": "markdown",
   "metadata": {},
   "source": [
    "To test the code above we will generate a random graph, compute shortest paths to the first vertex  and visually check the correctness of the computed shortest distances. Note that we don't check the multiedge condition. In the following testing function the argument $n$ is the number of nodes. Recommended values 3 - 10."
   ]
  },
  {
   "cell_type": "code",
   "execution_count": 4,
   "metadata": {
    "collapsed": true
   },
   "outputs": [],
   "source": [
    "def test_dijkstra(n):\n",
    "    edges = []\n",
    "    for i in range(1, n+1):\n",
    "        for j in range(1,n+1):\n",
    "            if i != j and np.random.binomial(n = 1, p = 1/n): edges.append((i,j,np.random.randint(1,10)))\n",
    "    #s = np.random.randint(0,n+1)\n",
    "    draw_weighted_graph(n,edges, dijkstra(n,edges,1))\n",
    "    "
   ]
  },
  {
   "cell_type": "code",
   "execution_count": 5,
   "metadata": {},
   "outputs": [
    {
     "data": {
      "image/png": "[encoded data removed]",
      "text/plain": [
       "<matplotlib.figure.Figure at 0x8c39ef0>"
      ]
     },
     "metadata": {},
     "output_type": "display_data"
    }
   ],
   "source": [
    "test_dijkstra(10)"
   ]
  },
  {
   "cell_type": "markdown",
   "metadata": {},
   "source": [
    "<a id = 'repetitive_k_sums'></a>"
   ]
  },
  {
   "cell_type": "markdown",
   "metadata": {},
   "source": [
    "<h2> Repetitive K-Sums  [$\\uparrow$](#TC) </h2>\n",
    "\n",
    "This problem could be found at https://www.hackerrank.com/challenges/repeat-k-sums/problem\n",
    "\n",
    "Alice thinks of a non-decreasing sequence of non-negative integers and wants Bob to guess it by providing him the set of all its $K$-sums with repetitions.\n",
    "\n",
    "What is this? Let the sequence be $\\{A_1, A_2, ..., A_N\\}$ and K be some positive integer that both Alice and Bob know. Alice gives Bob the set of all possible values that can be genereated by this - $A_{i_1} + A_{i_2} + ... + A_{i_K}$, where $1 \\leq i_1 \\leq i_2 \\leq \\ldots \\leq i_K \\leq N$. She can provide the values generated in any order she wishes to. Bob's task is to restore the initial sequence.\n",
    "\n",
    "Consider an example. Let $N = 3$ and $K = 2$. The sequence is $\\{A_1,A_2,A_3\\}$. The sequence of its 2-sums with repetitions is $\\{A_1 + A_1, A_1 + A_2, A_1 + A_3, A_2 + A_2, A_2 + A_3, A_3 + A_3\\}$. But its elements could be provided in any order. For example any permutation of $\\{2, 3, 4, 4, 5, 6\\}$ corresponds to the sequence $\\{1, 2, 3\\}$.\n",
    "\n",
    "**Input Format**\n",
    "\n",
    "The first line of the input contains an integer $T$ denoting the number of test cases. \n",
    "The description of $T$ test cases follows. \n",
    "The first line of each test case contains two space separated integers $N$ and $K$. \n",
    "\n",
    "The second line contains the sequence $S_i$ of all $K$-sums with repetitions of the sequence Alice initially thought of.\n",
    "\n",
    "**Constrains**\n",
    "\n",
    "- $1 \\leq  T,N \\leq 10^5$\n",
    "- $1 \\leq  K \\leq 10^9$\n",
    "- $2 \\leq  S_i \\leq 10^{18}$\n",
    "\n",
    "**Note **\n",
    "\n",
    "The total number of elements in any input sequence does not exceed $10^5$.\n",
    "Each element of each input sequence is non-negative integer not exceeding $10^{18}$. \n",
    "Each input sequence is a correct sequence of all $K$-sums with repetitions of some non-decreasing sequence of non-negative integers.\n",
    "\n",
    "**Output Format**\n",
    "\n",
    "For each test case, output a single line containing the space separated list of elements of the non-decreasing sequence Alice thinks of. If there are several possible outputs you can output any of them."
   ]
  },
  {
   "cell_type": "code",
   "execution_count": 6,
   "metadata": {
    "collapsed": true
   },
   "outputs": [],
   "source": [
    "def repetitive_sums(n, K, S):\n",
    "    S.sort()\n",
    "    \n",
    "    if n == 1:\n",
    "        return([S[0]//K])\n",
    "    if n == 2:\n",
    "        return( [S[0]//K, S[len(S)-1]//K])\n",
    "    if n == 3:\n",
    "        return([S[0]//K, S[1] - (S[0]//K)*(K-1) ,S[len(S)-1]//K])\n",
    "    if n == 4:\n",
    "        ans0 = S[0]//K\n",
    "        ans1 = S[1] - ans0*(K-1)\n",
    "        ans3 = S[len(S)-1]//K\n",
    "        ans2 = S[len(S)-2] - (K-1)*ans3\n",
    "        return([ans0, ans1, ans2, ans3])\n",
    "    \n",
    "    # We will find elements of the sequence one by one and generate current repetitive sums\n",
    "    # The first element in A is\n",
    "    ans = [S[0]//K] \n",
    "    \n",
    "    sums = []\n",
    "    for k in range(K+1):\n",
    "        sums.append([k*ans[0]])\n",
    "\n",
    "    \n",
    "    for m  in range(1,n):\n",
    "        i = 0\n",
    "        while i < len(sums[K]) and S[i] == sums[K][i]: i += 1\n",
    "\n",
    "        ans.append(S[i] - (K-1)*ans[0])\n",
    "        \n",
    "        new_sums = []\n",
    "        new_sums.append([0])\n",
    "        \n",
    "        for k in range(1,K+1): # count sums of k elements from the first m number for k = 1..K\n",
    "            tmp_sums = sums[:k+1]\n",
    "            for l in range(1,k+1):\n",
    "                tmp_sums[k-l] = [x+y for x,y in zip(sums[k-l], [ans[m]*l]*len(sums[k-l]))]\n",
    "            \n",
    "            # take union of tmp_sums[0..k] --> new_sums[k]\n",
    "            tmp = []\n",
    "            for l in range(0,k+1):\n",
    "                tmp.extend(tmp_sums[l])\n",
    "            new_sums.append(sorted(tmp))\n",
    "\n",
    "        sums = new_sums[:]\n",
    "        \n",
    "    return(ans)\n"
   ]
  },
  {
   "cell_type": "markdown",
   "metadata": {},
   "source": [
    "Now we test the above function by taking a random sequence $A$, generating sums and recovering $A$ back."
   ]
  },
  {
   "cell_type": "code",
   "execution_count": 7,
   "metadata": {
    "collapsed": true
   },
   "outputs": [],
   "source": [
    "def generate_sums(A,K):\n",
    "        sums = []\n",
    "        def generator(sum_,level):\n",
    "            if level == K: sums.append(sum_)\n",
    "            else:\n",
    "                for a in A: generator(sum_+a, level+1)\n",
    "        generator(0,0)\n",
    "        return(sums)\n",
    "        "
   ]
  },
  {
   "cell_type": "code",
   "execution_count": 8,
   "metadata": {
    "collapsed": true
   },
   "outputs": [],
   "source": [
    "def test_repetitive_sums(n = 3, K = 10):\n",
    "    A = np.random.randint(2,10,size = n)\n",
    "    sums = generate_sums(A,K)\n",
    "    A.sort()\n",
    "    print(\"Generating sequence A:\", *A)\n",
    "    \n",
    "    reconstructed = repetitive_sums(n,K,sums)\n",
    "    print(\"Reconstructed sequence: \", *reconstructed)\n",
    "    "
   ]
  },
  {
   "cell_type": "code",
   "execution_count": 9,
   "metadata": {},
   "outputs": [
    {
     "name": "stdout",
     "output_type": "stream",
     "text": [
      "Generating sequence A: 2 3 6 8\n",
      "Reconstructed sequence:  2 3 6 8\n"
     ]
    }
   ],
   "source": [
    "test_repetitive_sums(4,10)"
   ]
  },
  {
   "cell_type": "markdown",
   "metadata": {},
   "source": [
    "<a id = 'solving_queries'></a>"
   ]
  },
  {
   "cell_type": "markdown",
   "metadata": {},
   "source": [
    "<h2> Solve the Queries!  [$\\uparrow$](#TC) </h2>\n",
    "This problem could be found at https://www.hackerrank.com/contests/womens-codesprint-4/challenges/solve-the-queries/problem\n",
    "\n",
    "You are given an array $A = [A_1,\\ldots,A_n]$ consisting of $n$ integers. Let $p(l,r)$  be the product of all elements from index $l$ to index $r$ inclusive.\n",
    "\n",
    "Your goal is to answer $q$ queries of the following two types:\n",
    "\n",
    "1. $set(i,j,x)$. All elements of the array from index $i$ to index $j$ are set to $x$.\n",
    "2. $ask(i,j,k,l,m)$. Let $y = \\frac{p(i,j)}{p(k,l)}$. If $y$ is an integer, print $y$ mod $m$, otherwise print $-1$.\n",
    "\n",
    "**Input Format**\n",
    "\n",
    "The first line contains a single integer $n$.\n",
    "\n",
    "The second line contains $n$ space-separated integers $A_1, \\ldots, A_n$.\n",
    "\n",
    "The third line consists of a single integer $q$.\n",
    "\n",
    "The following $q$ lines describe the queries. Each line is in the following format:\n",
    "\n",
    "1. For $set$ queries, the line will contain four space-separated integers $1,i,j,x$.\n",
    "2. For  $ask$ queries, the line will contain six space-separated integers $2, i, j, k, l, m$.\n",
    "\n",
    "**Constraints**\n",
    "- $1 \\leq A_i, x \\leq 100$\n",
    "- $1 \\leq n \\leq 5\\cdot 10^4$\n",
    "- $1 \\leq q \\leq 10^5$\n",
    "- $1 \\leq i \\leq j \\leq n$\n",
    "- $1 \\leq k \\leq l \\leq n$\n",
    "- $1 \\leq m \\leq 2\\cdot 10^9$\n",
    "\n",
    "\n",
    "**Output Format**\n",
    "\n",
    "For each $ask$ query, print the answer for that query."
   ]
  },
  {
   "cell_type": "markdown",
   "metadata": {},
   "source": [
    "We solve this problem by building a segment tree. In every node we will store thr product of elements in the corresponding subarray. Since the number can be very large, we will store it as an array of the exponents of prime factors. All entries of the array are $\\leq 100$, we will only use several few prime numbers."
   ]
  },
  {
   "cell_type": "markdown",
   "metadata": {},
   "source": [
    "Firstly, we generate all primes that could be factors of the array entries."
   ]
  },
  {
   "cell_type": "code",
   "execution_count": 10,
   "metadata": {
    "collapsed": true
   },
   "outputs": [],
   "source": [
    "def generate_primes(n):\n",
    "    primes = [True]*(n+1)\n",
    "    for i in range(2,n-1):\n",
    "        if not primes[i]: continue\n",
    "        j = 2*i\n",
    "        while j <= n:\n",
    "            primes[j] = False\n",
    "            j = j + i\n",
    "    primes_list = []\n",
    "    for i in range(2, n+1):\n",
    "        if primes[i]: primes_list.append(i)\n",
    "    return(primes_list)"
   ]
  },
  {
   "cell_type": "markdown",
   "metadata": {},
   "source": [
    "And convert any integer to the sequence of exponents. Here the way we store the exponents is not optimal (we really store 0's for compound numbers), but it is enough to pass the tests."
   ]
  },
  {
   "cell_type": "code",
   "execution_count": 11,
   "metadata": {
    "collapsed": true
   },
   "outputs": [],
   "source": [
    "# assumes x only has primes as divisors\n",
    "def split_into_primes(x, max_x, primes):\n",
    "    result = [0]*max_x\n",
    "    y = x\n",
    "    while y > 1:\n",
    "        for p in primes:\n",
    "            if y % p == 0:\n",
    "                result[p] += 1\n",
    "                y = y//p\n",
    "                break\n",
    "    return(result)"
   ]
  },
  {
   "cell_type": "markdown",
   "metadata": {},
   "source": [
    "The following functions build a tree, updates values on the segment and answer $ask$ queries. Note that we need to implement \"lazy\" update structure, since the update requests update values in the range rather then at one spot."
   ]
  },
  {
   "cell_type": "code",
   "execution_count": 12,
   "metadata": {
    "collapsed": true
   },
   "outputs": [],
   "source": [
    "max_x = 100\n",
    "primes = generate_primes(max_x)\n",
    "\n",
    "def product(a,b):\n",
    "    return([a[i] + b[i] for i in range(len(a))] )\n",
    "\n",
    "def build_product_tree(base, tree, vertex, l, r):\n",
    "    \n",
    "    if l == r:\n",
    "        tree[vertex] = split_into_primes(base[l], max_x, primes)\n",
    "        return\n",
    "    \n",
    "    mid = (l+r)//2\n",
    "    build_product_tree(base, tree, vertex*2, l, mid)\n",
    "    build_product_tree(base, tree, vertex*2 + 1,  mid+1, r)\n",
    "    tree[vertex] = product(tree[vertex*2], tree[vertex*2 + 1])\n",
    "    return\n",
    "    \n",
    "\n",
    "def set_segment(tree,lazy, vertex, l, r, left, right, x):\n",
    "    x_primes = split_into_primes(x, max_x, primes)\n",
    "    \n",
    "    # Update lazy value from previous iterations\n",
    "    if lazy[vertex] > 0: \n",
    "        tree[vertex] = [i*(r-l+1) for i in split_into_primes(lazy[vertex],max_x, primes)] \n",
    "        lazy[2*vertex] = lazy[vertex]\n",
    "        lazy[2*vertex + 1] = lazy[vertex]\n",
    "        lazy[vertex] = 0\n",
    "        \n",
    "    if l > right or r < left: return\n",
    "    if l >= left and r <= right:\n",
    "        tree[vertex] = [i*(r-l+1) for i in x_primes] # update the vertex with x^length\n",
    "        lazy[2*vertex] = x\n",
    "        lazy[2*vertex + 1] = x\n",
    "        return\n",
    "    \n",
    "    mid = (l+r)//2\n",
    "    set_segment(tree,lazy, 2*vertex, l, mid, left, right, x)\n",
    "    set_segment(tree,lazy, 2*vertex+1,  mid + 1, r, left, right, x)\n",
    "    tree[vertex] = product(tree[2*vertex], tree[2*vertex + 1])\n",
    "    \n",
    "\n",
    "def get_product(tree, lazy, vertex, l, r, left, right):\n",
    "    if lazy[vertex] > 0: \n",
    "        tree[vertex] = [i*(r-l+1) for i in split_into_primes(lazy[vertex],max_x, primes)] \n",
    "        lazy[2*vertex] = lazy[vertex]\n",
    "        lazy[2*vertex + 1] = lazy[vertex]\n",
    "        lazy[vertex] = 0\n",
    "        \n",
    "    if l > right or r < left: return([0]*max_x)\n",
    "    if l >= left and r <= right: return(tree[vertex])\n",
    "    \n",
    "    mid = (l+r)//2\n",
    "    return(product(get_product(tree, lazy, 2*vertex, l, mid, left, right),  get_product(tree, lazy, 2*vertex+1, mid+1, r, left, right)))\n",
    "\n",
    "def ask(i,j,k,l,m):\n",
    "    numerator = get_product(tree, lazy, 1, 0, n-1, i, j)\n",
    "    denominator = get_product(tree, lazy, 1, 0, n-1, k,l)\n",
    "    ratio = [x - y for x,y in zip(numerator, denominator)]\n",
    "    isint = True\n",
    "    ans = 1\n",
    "    for i in range(len(ratio)):\n",
    "        if ratio[i] < 0: \n",
    "            isint = False\n",
    "            break\n",
    "        if ratio[i] > 0:\n",
    "            for j in range(ratio[i]):\n",
    "                ans = (ans * i) % m\n",
    "    if isint: return(ans)\n",
    "    else: return(-1)"
   ]
  },
  {
   "cell_type": "markdown",
   "metadata": {},
   "source": [
    "Let's do a quick test."
   ]
  },
  {
   "cell_type": "code",
   "execution_count": 13,
   "metadata": {
    "collapsed": true
   },
   "outputs": [],
   "source": [
    "A = [2,4,3,5,15,6]\n",
    "n = len(A)\n",
    "tree = []\n",
    "lazy = []\n",
    "for i in range(5*n):\n",
    "    tree.append([0]*max_x)\n",
    "    lazy.append(0)\n",
    "\n",
    "build_product_tree(A, tree, 1, 0, n-1)"
   ]
  },
  {
   "cell_type": "code",
   "execution_count": 14,
   "metadata": {},
   "outputs": [
    {
     "name": "stdout",
     "output_type": "stream",
     "text": [
      "4\n",
      "-1\n",
      "-1\n",
      "2\n"
     ]
    }
   ],
   "source": [
    "print(ask(0,2,5,5,100)) # expect 4\n",
    "print(ask(0,3,4,5,100)) # expect -1\n",
    "set_segment(tree, lazy,1,0, n-1, 1,3,7)\n",
    "print(ask(0,2,5,5,100)) # expect -1\n",
    "print(ask(0,1, 3,3,100)) # expect 2"
   ]
  }
 ],
 "metadata": {
  "kernelspec": {
   "display_name": "Python 3",
   "language": "python",
   "name": "python3"
  },
  "language_info": {
   "codemirror_mode": {
    "name": "ipython",
    "version": 3
   },
   "file_extension": ".py",
   "mimetype": "text/x-python",
   "name": "python",
   "nbconvert_exporter": "python",
   "pygments_lexer": "ipython3",
   "version": "3.6.1"
  }
 },
 "nbformat": 4,
 "nbformat_minor": 2
}
