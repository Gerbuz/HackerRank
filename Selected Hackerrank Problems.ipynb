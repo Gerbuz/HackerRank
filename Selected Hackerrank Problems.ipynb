{
 "cells": [
  {
   "cell_type": "markdown",
   "metadata": {},
   "source": [
    "This notebook contains statements and solutions to several problems from https://hackerrank.com."
   ]
  },
  {
   "cell_type": "markdown",
   "metadata": {},
   "source": [
    "<a id = 'TC'></a>\n",
    "<h1>Table of Contents</h1>\n",
    "1. [Utility Functions](#utility_functions)\n",
    "2. Problems\n",
    "    - [Weighted Dijkstra](#weighted_dijkstra)\n",
    "    - [Repetitive K-Sums](#repetitive_k_sums)\n",
    "    "
   ]
  },
  {
   "cell_type": "code",
   "execution_count": 1,
   "metadata": {
    "collapsed": true
   },
   "outputs": [],
   "source": [
    "import matplotlib.pyplot as plt\n",
    "%matplotlib inline\n",
    "import numpy as np\n",
    "import networkx as nx"
   ]
  },
  {
   "cell_type": "markdown",
   "metadata": {},
   "source": [
    "<a id = 'utility_functions'></a>"
   ]
  },
  {
   "cell_type": "markdown",
   "metadata": {},
   "source": [
    "<h2> Utility Functions  [$\\uparrow$](#TC) </h2>"
   ]
  },
  {
   "cell_type": "code",
   "execution_count": 2,
   "metadata": {
    "collapsed": true
   },
   "outputs": [],
   "source": [
    "def draw_weighted_graph(n, edges, node_labels = None):\n",
    "    \n",
    "    if node_labels: labels = dict([(i, 'v'+str(i) +'\\n'+str(node_labels[i-1])  ) for i in range(1,n+1)])\n",
    "    else: labels = None\n",
    "        \n",
    "    G = nx.Graph()\n",
    "    for i in range(1, n+1): G.add_node(i)\n",
    "    for edge in edges: G.add_edge(edge[0], edge[1],weight = edge[2])\n",
    "    pos = nx.shell_layout(G)\n",
    "    nx.draw_networkx(G, pos = pos, node_size = 1000, labels = labels)\n",
    "    for edge in edges:\n",
    "        a = edge[0]\n",
    "        b = edge[1]\n",
    "        w = edge[2]\n",
    "        H = nx.Graph()\n",
    "        H.add_node(w)\n",
    "        pos_H = {w: [(pos[a][0] + pos[b][0])/2 , (pos[a][1] + pos[b][1])/2 ]}\n",
    "        nx.draw_networkx(H,pos = pos_H, node_color = 'w', node_shape = '8')\n",
    "    plt.axis('off')\n",
    "    plt.show()\n"
   ]
  },
  {
   "cell_type": "markdown",
   "metadata": {},
   "source": [
    "<a id = 'weighted_dijkstra'></a>"
   ]
  },
  {
   "cell_type": "markdown",
   "metadata": {},
   "source": [
    "<h2> Dijkstra: Shortest Reach 2  [$\\uparrow$](#TC) </h2>\n",
    "\n",
    "This problem could be found at https://www.hackerrank.com/challenges/dijkstrashortreach/problem\n",
    "\n",
    "To submit the code paste the body of the dijkstra function into the function provided on the website.\n",
    "\n",
    "**Problem Statement:** Given an undirected graph and a starting node, determine the lengths of the shortest paths from the starting node to all other nodes in the graph. If a node is unreachable, its distance is -1. Nodes will be numbered consecutively from 1 to $n$, and edges will have varying distances or lengths.\n",
    "\n",
    "**Input Format:**\n",
    "Each test case is as follows: \n",
    "- The first line contains two space-separated integers $n$ and $m$, the number of nodes and edges in the graph. \n",
    "- Each of the next $m$ lines contains three space-separated integers $x$,$y$ , and $r$ , the beginning and ending nodes of an edge, and the length of the edge. \n",
    "- The last line of each test case has an integer $s$, denoting the starting position."
   ]
  },
  {
   "cell_type": "code",
   "execution_count": 3,
   "metadata": {
    "collapsed": true
   },
   "outputs": [],
   "source": [
    "def dijkstra(n,edges,s):\n",
    "    inf = 10**10\n",
    "    # Weight matrix\n",
    "    W = []\n",
    "    for i in range(n): W.append([inf]*n)\n",
    "    \n",
    "    for edge in edges:\n",
    "        x = edge[0] - 1\n",
    "        y = edge[1] - 1 \n",
    "        r = edge[2]\n",
    "        if r < W[x][y]:\n",
    "            W[x][y] = r\n",
    "            W[y][x] = r\n",
    "    \n",
    "    finilized = [False]*n\n",
    "    dist = [inf]*n\n",
    "    dist[s-1] = 0\n",
    "    \n",
    "    while True:\n",
    "\n",
    "        next_closest = -1\n",
    "        next_closest_dist = inf\n",
    "        for vertex in range(n):\n",
    "            if not finilized[vertex] and dist[vertex] < next_closest_dist:\n",
    "                next_closest = vertex\n",
    "                next_closest_dist = dist[vertex]\n",
    "\n",
    "        if next_closest == -1:\n",
    "            for i in range(n):\n",
    "                if dist[i] >= inf: dist[i] = -1\n",
    "        # uncomment next line for the hackerrank submission\n",
    "        #    dist.pop(s-1) \n",
    "            return(dist)\n",
    "        \n",
    "        finilized[next_closest] = True\n",
    "        for vertex in range(n):\n",
    "            if dist[vertex] > dist[next_closest] + W[next_closest][vertex]:\n",
    "                dist[vertex] = dist[next_closest] + W[next_closest][vertex]\n",
    "        \n",
    "    "
   ]
  },
  {
   "cell_type": "markdown",
   "metadata": {},
   "source": [
    "To test the code above we will generate a random graph, compute shortest paths to the first vertex  and visually check the correctness of the computed shortest distances. Note that we don't check the multiedge condition. In the following testing function the argument $n$ is the number of nodes. Recommended values 3 - 10."
   ]
  },
  {
   "cell_type": "code",
   "execution_count": 8,
   "metadata": {
    "collapsed": true
   },
   "outputs": [],
   "source": [
    "def test_dijkstra(n):\n",
    "    edges = []\n",
    "    for i in range(1, n+1):\n",
    "        for j in range(1,n+1):\n",
    "            if i != j and np.random.binomial(n = 1, p = 1/n): edges.append((i,j,np.random.randint(1,10)))\n",
    "    #s = np.random.randint(0,n+1)\n",
    "    draw_weighted_graph(n,edges, dijkstra(n,edges,1))\n",
    "    "
   ]
  },
  {
   "cell_type": "code",
   "execution_count": 9,
   "metadata": {},
   "outputs": [
    {
     "data": {
      "image/png": "[encoded data removed]",
      "text/plain": [
       "<matplotlib.figure.Figure at 0x90a9da0>"
      ]
     },
     "metadata": {},
     "output_type": "display_data"
    }
   ],
   "source": [
    "test_dijkstra(10)"
   ]
  },
  {
   "cell_type": "markdown",
   "metadata": {},
   "source": [
    "<a id = 'repetitive_k_sums'></a>"
   ]
  },
  {
   "cell_type": "markdown",
   "metadata": {},
   "source": [
    "<h2> Repetitive K-Sums  [$\\uparrow$](#TC) </h2>\n",
    "\n",
    "This problem could be found at https://www.hackerrank.com/challenges/repeat-k-sums/problem\n",
    "\n",
    "Alice thinks of a non-decreasing sequence of non-negative integers and wants Bob to guess it by providing him the set of all its $K$-sums with repetitions.\n",
    "\n",
    "What is this? Let the sequence be $\\{A_1, A_2, ..., A_N\\}$ and K be some positive integer that both Alice and Bob know. Alice gives Bob the set of all possible values that can be genereated by this - $A_{i_1} + A_{i_2} + ... + A_{i_K}$, where $1 \\leq i_1 \\leq i_2 \\leq \\ldots \\leq i_K \\leq N$. She can provide the values generated in any order she wishes to. Bob's task is to restore the initial sequence.\n",
    "\n",
    "Consider an example. Let $N = 3$ and $K = 2$. The sequence is $\\{A_1,A_2,A_3\\}$. The sequence of its 2-sums with repetitions is $\\{A_1 + A_1, A_1 + A_2, A_1 + A_3, A_2 + A_2, A_2 + A_3, A_3 + A_3\\}$. But its elements could be provided in any order. For example any permutation of $\\{2, 3, 4, 4, 5, 6\\}$ corresponds to the sequence $\\{1, 2, 3\\}$.\n",
    "\n",
    "**Input Format**\n",
    "\n",
    "The first line of the input contains an integer $T$ denoting the number of test cases. \n",
    "The description of $T$ test cases follows. \n",
    "The first line of each test case contains two space separated integers $N$ and $K$. \n",
    "\n",
    "The second line contains the sequence $S_i$ of all $K$-sums with repetitions of the sequence Alice initially thought of.\n",
    "\n",
    "**Constrains**\n",
    "\n",
    "- $1 \\leq  T,N \\leq 10^5$\n",
    "- $1 \\leq  K \\leq 10^9$\n",
    "- $2 \\leq  S_i \\leq 10^{18}$\n",
    "\n",
    "**Note **\n",
    "\n",
    "The total number of elements in any input sequence does not exceed $10^5$.\n",
    "Each element of each input sequence is non-negative integer not exceeding $10^{18}$. \n",
    "Each input sequence is a correct sequence of all $K$-sums with repetitions of some non-decreasing sequence of non-negative integers.\n",
    "\n",
    "**Output Format**\n",
    "\n",
    "For each test case, output a single line containing the space separated list of elements of the non-decreasing sequence Alice thinks of. If there are several possible outputs you can output any of them."
   ]
  },
  {
   "cell_type": "code",
   "execution_count": 10,
   "metadata": {
    "collapsed": true
   },
   "outputs": [],
   "source": [
    "def repetitive_sums(n, K, S):\n",
    "    S.sort()\n",
    "    \n",
    "    if n == 1:\n",
    "        return([S[0]//K])\n",
    "    if n == 2:\n",
    "        return( [S[0]//K, S[len(S)-1]//K])\n",
    "    if n == 3:\n",
    "        return([S[0]//K, S[1] - (S[0]//K)*(K-1) ,S[len(S)-1]//K])\n",
    "    if n == 4:\n",
    "        ans0 = S[0]//K\n",
    "        ans1 = S[1] - ans0*(K-1)\n",
    "        ans3 = S[len(S)-1]//K\n",
    "        ans2 = S[len(S)-2] - (K-1)*ans3\n",
    "        return([ans0, ans1, ans2, ans3])\n",
    "    \n",
    "    # We will find elements of the sequence one by one and generate current repetitive sums\n",
    "    # The first element in A is\n",
    "    ans = [S[0]//K] \n",
    "    \n",
    "    sums = []\n",
    "    for k in range(K+1):\n",
    "        sums.append([k*ans[0]])\n",
    "\n",
    "    \n",
    "    for m  in range(1,n):\n",
    "        i = 0\n",
    "        while i < len(sums[K]) and S[i] == sums[K][i]: i += 1\n",
    "\n",
    "        ans.append(S[i] - (K-1)*ans[0])\n",
    "        \n",
    "        new_sums = []\n",
    "        new_sums.append([0])\n",
    "        \n",
    "        for k in range(1,K+1): # count sums of k elements from the first m number for k = 1..K\n",
    "            tmp_sums = sums[:k+1]\n",
    "            for l in range(1,k+1):\n",
    "                tmp_sums[k-l] = [x+y for x,y in zip(sums[k-l], [ans[m]*l]*len(sums[k-l]))]\n",
    "            \n",
    "            # take union of tmp_sums[0..k] --> new_sums[k]\n",
    "            tmp = []\n",
    "            for l in range(0,k+1):\n",
    "                tmp.extend(tmp_sums[l])\n",
    "            new_sums.append(sorted(tmp))\n",
    "\n",
    "        sums = new_sums[:]\n",
    "        \n",
    "    return(ans)\n"
   ]
  },
  {
   "cell_type": "markdown",
   "metadata": {},
   "source": [
    "Now we test the above function by taking a random sequence $A$, generating sums and recovering $A$ back."
   ]
  },
  {
   "cell_type": "code",
   "execution_count": 11,
   "metadata": {
    "collapsed": true
   },
   "outputs": [],
   "source": [
    "def generate_sums(A,K):\n",
    "        sums = []\n",
    "        def generator(sum_,level):\n",
    "            if level == K: sums.append(sum_)\n",
    "            else:\n",
    "                for a in A: generator(sum_+a, level+1)\n",
    "        generator(0,0)\n",
    "        return(sums)\n",
    "        "
   ]
  },
  {
   "cell_type": "code",
   "execution_count": 12,
   "metadata": {
    "collapsed": true
   },
   "outputs": [],
   "source": [
    "def test_repetitive_sums(n = 3, K = 10):\n",
    "    A = np.random.randint(2,10,size = n)\n",
    "    sums = generate_sums(A,K)\n",
    "    A.sort()\n",
    "    print(\"Generating sequence A:\", *A)\n",
    "    \n",
    "    reconstructed = repetitive_sums(n,K,sums)\n",
    "    print(\"Reconstructed sequence: \", *reconstructed)\n",
    "    "
   ]
  },
  {
   "cell_type": "code",
   "execution_count": 13,
   "metadata": {},
   "outputs": [
    {
     "name": "stdout",
     "output_type": "stream",
     "text": [
      "Generating sequence A: 2 3 4 5\n",
      "Reconstructed sequence:  2 3 4 5\n"
     ]
    }
   ],
   "source": [
    "test_repetitive_sums(4,10)"
   ]
  }
 ],
 "metadata": {
  "kernelspec": {
   "display_name": "Python 3",
   "language": "python",
   "name": "python3"
  },
  "language_info": {
   "codemirror_mode": {
    "name": "ipython",
    "version": 3
   },
   "file_extension": ".py",
   "mimetype": "text/x-python",
   "name": "python",
   "nbconvert_exporter": "python",
   "pygments_lexer": "ipython3",
   "version": "3.6.1"
  }
 },
 "nbformat": 4,
 "nbformat_minor": 2
}
